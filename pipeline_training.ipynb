{
  "nbformat": 4,
  "nbformat_minor": 0,
  "metadata": {
    "colab": {
      "provenance": []
    },
    "kernelspec": {
      "name": "python3",
      "display_name": "Python 3"
    },
    "language_info": {
      "name": "python"
    }
  },
  "cells": [
    {
      "cell_type": "code",
      "source": [
        "import pandas as pd\n",
        "from sklearn.pipeline import Pipeline\n",
        "from sklearn.impute import SimpleImputer\n",
        "from sklearn.preprocessing import RobustScaler\n",
        "from xgboost import XGBClassifier\n",
        "from imblearn.over_sampling import SMOTE\n",
        "from joblib import dump\n",
        "\n",
        "# Load your dataset\n",
        "data = pd.read_csv('/content/aps_failure_training_set1.csv')\n",
        "\n",
        "# Replace 'na' with 0\n",
        "data.replace('na', 0, inplace=True)\n",
        "\n",
        "# Split data into features (X) and target (y)\n",
        "X = data.drop('class', axis=1)\n",
        "y = data['class'].replace({'pos': 1, 'neg': 0})\n",
        "\n",
        "# Define preprocessing steps\n",
        "preprocessing_steps = [\n",
        "    ('imputer', SimpleImputer(strategy='constant', fill_value=0)),\n",
        "    ('scaler', RobustScaler())\n",
        "]\n",
        "\n",
        "# Apply preprocessing steps\n",
        "preprocessor = Pipeline(steps=preprocessing_steps)\n",
        "X_preprocessed = preprocessor.fit_transform(X)\n",
        "\n",
        "# Apply SMOTE for oversampling\n",
        "smote = SMOTE()\n",
        "X_res, y_res = smote.fit_resample(X_preprocessed, y)\n",
        "\n",
        "# Define the model\n",
        "model = XGBClassifier()\n",
        "\n",
        "# Train the model\n",
        "model.fit(X_res, y_res)\n",
        "\n",
        "# Save the trained model to Google Drive\n",
        "model_file_path = 'trained_model.joblib'\n",
        "dump(model, model_file_path)"
      ],
      "metadata": {
        "colab": {
          "base_uri": "https://localhost:8080/"
        },
        "id": "AsbjctvMGQDy",
        "outputId": "9b1a044d-ac60-41a1-a57b-f528424f50d6"
      },
      "execution_count": null,
      "outputs": [
        {
          "output_type": "execute_result",
          "data": {
            "text/plain": [
              "['trained_model.joblib']"
            ]
          },
          "metadata": {},
          "execution_count": 15
        }
      ]
    },
    {
      "cell_type": "code",
      "source": [
        "trained"
      ],
      "metadata": {
        "id": "VNJaUJP-Gs_s"
      },
      "execution_count": null,
      "outputs": []
    }
  ]
}